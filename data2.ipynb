{
  "cells": [
    {
      "cell_type": "code",
      "source": [
        "#Libraries\n",
        "import pandas as pd\n",
        "import seaborn as sns\n",
        "import matplotlib.pyplot as plt"
      ],
      "outputs": [],
      "execution_count": 37,
      "metadata": {
        "collapsed": false,
        "outputHidden": false,
        "inputHidden": false
      }
    },
    {
      "cell_type": "code",
      "source": [
        "#Import file anf clean\n",
        "school_df = pd.read_csv(\"2013_-_2018_Demographic_Snapshot_School.csv\", sep=\",\")\n",
        "school_df.columns = [x.replace(\" \", \"_\").replace(\"_(cm)\", \"\") for x in school_df.columns]\n",
        "school_df[\"Year\"] = [int(x[0:4]) for x in school_df[\"Year\"]]"
      ],
      "outputs": [],
      "execution_count": 38,
      "metadata": {
        "collapsed": false,
        "outputHidden": false,
        "inputHidden": false
      }
    },
    {
      "cell_type": "code",
      "source": [
        "school_df.head()"
      ],
      "outputs": [
        {
          "output_type": "execute_result",
          "execution_count": 39,
          "data": {
            "text/plain": [
              "      DBN                School_Name  Year  Total_Enrollment  \\\n",
              "0  01M015  P.S. 015 Roberto Clemente  2013               190   \n",
              "1  01M015  P.S. 015 Roberto Clemente  2014               183   \n",
              "2  01M015  P.S. 015 Roberto Clemente  2015               176   \n",
              "3  01M015  P.S. 015 Roberto Clemente  2016               178   \n",
              "4  01M015  P.S. 015 Roberto Clemente  2017               190   \n",
              "\n",
              "   Grade_PK_(Half_Day_&_Full_Day)  Grade_K  Grade_1  Grade_2  Grade_3  \\\n",
              "0                              26       39       39       21       16   \n",
              "1                              18       27       47       31       19   \n",
              "2                              14       32       33       39       23   \n",
              "3                              17       28       33       27       31   \n",
              "4                              17       28       32       33       23   \n",
              "\n",
              "   Grade_4  ...  %_Multiple_Race_Categories_Not_Represented  #_White  %_White  \\\n",
              "0       26  ...                                         1.1        3      1.6   \n",
              "1       17  ...                                         0.5        2      1.1   \n",
              "2       17  ...                                         1.7        2      1.1   \n",
              "3       24  ...                                         2.2        4      2.2   \n",
              "4       31  ...                                         1.1        6      3.2   \n",
              "\n",
              "   #_Students_with_Disabilities  %_Students_with_Disabilities  \\\n",
              "0                            65                          34.2   \n",
              "1                            64                          35.0   \n",
              "2                            60                          34.1   \n",
              "3                            51                          28.7   \n",
              "4                            45                          23.7   \n",
              "\n",
              "   #_English_Language_Learners  %_English_Language_Learners  #_Poverty  \\\n",
              "0                           19                         10.0        171   \n",
              "1                           17                          9.3        169   \n",
              "2                           16                          9.1        149   \n",
              "3                           12                          6.7        152   \n",
              "4                            8                          4.2        161   \n",
              "\n",
              "   %_Poverty  Economic_Need_Index  \n",
              "0       90.0              No Data  \n",
              "1       92.3                93.5%  \n",
              "2       84.7                89.6%  \n",
              "3       85.4                89.2%  \n",
              "4       84.7                89.0%  \n",
              "\n",
              "[5 rows x 39 columns]"
            ],
            "text/html": [
              "<div>\n",
              "<style scoped>\n",
              "    .dataframe tbody tr th:only-of-type {\n",
              "        vertical-align: middle;\n",
              "    }\n",
              "\n",
              "    .dataframe tbody tr th {\n",
              "        vertical-align: top;\n",
              "    }\n",
              "\n",
              "    .dataframe thead th {\n",
              "        text-align: right;\n",
              "    }\n",
              "</style>\n",
              "<table border=\"1\" class=\"dataframe\">\n",
              "  <thead>\n",
              "    <tr style=\"text-align: right;\">\n",
              "      <th></th>\n",
              "      <th>DBN</th>\n",
              "      <th>School_Name</th>\n",
              "      <th>Year</th>\n",
              "      <th>Total_Enrollment</th>\n",
              "      <th>Grade_PK_(Half_Day_&amp;_Full_Day)</th>\n",
              "      <th>Grade_K</th>\n",
              "      <th>Grade_1</th>\n",
              "      <th>Grade_2</th>\n",
              "      <th>Grade_3</th>\n",
              "      <th>Grade_4</th>\n",
              "      <th>...</th>\n",
              "      <th>%_Multiple_Race_Categories_Not_Represented</th>\n",
              "      <th>#_White</th>\n",
              "      <th>%_White</th>\n",
              "      <th>#_Students_with_Disabilities</th>\n",
              "      <th>%_Students_with_Disabilities</th>\n",
              "      <th>#_English_Language_Learners</th>\n",
              "      <th>%_English_Language_Learners</th>\n",
              "      <th>#_Poverty</th>\n",
              "      <th>%_Poverty</th>\n",
              "      <th>Economic_Need_Index</th>\n",
              "    </tr>\n",
              "  </thead>\n",
              "  <tbody>\n",
              "    <tr>\n",
              "      <th>0</th>\n",
              "      <td>01M015</td>\n",
              "      <td>P.S. 015 Roberto Clemente</td>\n",
              "      <td>2013</td>\n",
              "      <td>190</td>\n",
              "      <td>26</td>\n",
              "      <td>39</td>\n",
              "      <td>39</td>\n",
              "      <td>21</td>\n",
              "      <td>16</td>\n",
              "      <td>26</td>\n",
              "      <td>...</td>\n",
              "      <td>1.1</td>\n",
              "      <td>3</td>\n",
              "      <td>1.6</td>\n",
              "      <td>65</td>\n",
              "      <td>34.2</td>\n",
              "      <td>19</td>\n",
              "      <td>10.0</td>\n",
              "      <td>171</td>\n",
              "      <td>90.0</td>\n",
              "      <td>No Data</td>\n",
              "    </tr>\n",
              "    <tr>\n",
              "      <th>1</th>\n",
              "      <td>01M015</td>\n",
              "      <td>P.S. 015 Roberto Clemente</td>\n",
              "      <td>2014</td>\n",
              "      <td>183</td>\n",
              "      <td>18</td>\n",
              "      <td>27</td>\n",
              "      <td>47</td>\n",
              "      <td>31</td>\n",
              "      <td>19</td>\n",
              "      <td>17</td>\n",
              "      <td>...</td>\n",
              "      <td>0.5</td>\n",
              "      <td>2</td>\n",
              "      <td>1.1</td>\n",
              "      <td>64</td>\n",
              "      <td>35.0</td>\n",
              "      <td>17</td>\n",
              "      <td>9.3</td>\n",
              "      <td>169</td>\n",
              "      <td>92.3</td>\n",
              "      <td>93.5%</td>\n",
              "    </tr>\n",
              "    <tr>\n",
              "      <th>2</th>\n",
              "      <td>01M015</td>\n",
              "      <td>P.S. 015 Roberto Clemente</td>\n",
              "      <td>2015</td>\n",
              "      <td>176</td>\n",
              "      <td>14</td>\n",
              "      <td>32</td>\n",
              "      <td>33</td>\n",
              "      <td>39</td>\n",
              "      <td>23</td>\n",
              "      <td>17</td>\n",
              "      <td>...</td>\n",
              "      <td>1.7</td>\n",
              "      <td>2</td>\n",
              "      <td>1.1</td>\n",
              "      <td>60</td>\n",
              "      <td>34.1</td>\n",
              "      <td>16</td>\n",
              "      <td>9.1</td>\n",
              "      <td>149</td>\n",
              "      <td>84.7</td>\n",
              "      <td>89.6%</td>\n",
              "    </tr>\n",
              "    <tr>\n",
              "      <th>3</th>\n",
              "      <td>01M015</td>\n",
              "      <td>P.S. 015 Roberto Clemente</td>\n",
              "      <td>2016</td>\n",
              "      <td>178</td>\n",
              "      <td>17</td>\n",
              "      <td>28</td>\n",
              "      <td>33</td>\n",
              "      <td>27</td>\n",
              "      <td>31</td>\n",
              "      <td>24</td>\n",
              "      <td>...</td>\n",
              "      <td>2.2</td>\n",
              "      <td>4</td>\n",
              "      <td>2.2</td>\n",
              "      <td>51</td>\n",
              "      <td>28.7</td>\n",
              "      <td>12</td>\n",
              "      <td>6.7</td>\n",
              "      <td>152</td>\n",
              "      <td>85.4</td>\n",
              "      <td>89.2%</td>\n",
              "    </tr>\n",
              "    <tr>\n",
              "      <th>4</th>\n",
              "      <td>01M015</td>\n",
              "      <td>P.S. 015 Roberto Clemente</td>\n",
              "      <td>2017</td>\n",
              "      <td>190</td>\n",
              "      <td>17</td>\n",
              "      <td>28</td>\n",
              "      <td>32</td>\n",
              "      <td>33</td>\n",
              "      <td>23</td>\n",
              "      <td>31</td>\n",
              "      <td>...</td>\n",
              "      <td>1.1</td>\n",
              "      <td>6</td>\n",
              "      <td>3.2</td>\n",
              "      <td>45</td>\n",
              "      <td>23.7</td>\n",
              "      <td>8</td>\n",
              "      <td>4.2</td>\n",
              "      <td>161</td>\n",
              "      <td>84.7</td>\n",
              "      <td>89.0%</td>\n",
              "    </tr>\n",
              "  </tbody>\n",
              "</table>\n",
              "<p>5 rows × 39 columns</p>\n",
              "</div>"
            ]
          },
          "metadata": {}
        }
      ],
      "execution_count": 39,
      "metadata": {
        "collapsed": false,
        "outputHidden": false,
        "inputHidden": false
      }
    },
    {
      "cell_type": "code",
      "source": [
        "school13_df = school_df[school_df.Year==2013]\n",
        "school14_df = school_df[school_df.Year==2014]\n",
        "school15_df = school_df[school_df.Year==2015]\n",
        "school16_df = school_df[school_df.Year==2016]\n",
        "school17_df = school_df[school_df.Year==2017]\n",
        "hschool17_df = school_df[school_df.Grade_12!=0]\n",
        "mschool17_df = school_df[school_df.Grade_8!=0]\n"
      ],
      "outputs": [],
      "execution_count": 66,
      "metadata": {
        "collapsed": false,
        "outputHidden": false,
        "inputHidden": false
      }
    },
    {
      "cell_type": "code",
      "source": [
        "hschool17_df.head()"
      ],
      "outputs": [
        {
          "output_type": "execute_result",
          "execution_count": 67,
          "data": {
            "text/plain": [
              "       DBN                 School_Name  Year  Total_Enrollment  \\\n",
              "60  01M292  Orchard Collegiate Academy  2013               323   \n",
              "61  01M292  Orchard Collegiate Academy  2014               255   \n",
              "62  01M292  Orchard Collegiate Academy  2015               185   \n",
              "63  01M292  Orchard Collegiate Academy  2016               140   \n",
              "64  01M292  Orchard Collegiate Academy  2017               171   \n",
              "\n",
              "    Grade_PK_(Half_Day_&_Full_Day)  Grade_K  Grade_1  Grade_2  Grade_3  \\\n",
              "60                               0        0        0        0        0   \n",
              "61                               0        0        0        0        0   \n",
              "62                               0        0        0        0        0   \n",
              "63                               0        0        0        0        0   \n",
              "64                               0        0        0        0        0   \n",
              "\n",
              "    Grade_4  ...  %_Multiple_Race_Categories_Not_Represented  #_White  \\\n",
              "60        0  ...                                         4.0       10   \n",
              "61        0  ...                                         2.4        9   \n",
              "62        0  ...                                         1.1        6   \n",
              "63        0  ...                                         0.7        7   \n",
              "64        0  ...                                         2.3        8   \n",
              "\n",
              "    %_White  #_Students_with_Disabilities  %_Students_with_Disabilities  \\\n",
              "60      3.1                           107                          33.1   \n",
              "61      3.5                            83                          32.5   \n",
              "62      3.2                            64                          34.6   \n",
              "63      5.0                            38                          27.1   \n",
              "64      4.7                            42                          24.6   \n",
              "\n",
              "    #_English_Language_Learners  %_English_Language_Learners  #_Poverty  \\\n",
              "60                           64                         19.8        271   \n",
              "61                           30                         11.8        227   \n",
              "62                           26                         14.1        163   \n",
              "63                           20                         14.3        128   \n",
              "64                           23                         13.5        156   \n",
              "\n",
              "    %_Poverty  Economic_Need_Index  \n",
              "60       83.9              No Data  \n",
              "61       89.0                83.9%  \n",
              "62       88.1                86.7%  \n",
              "63       91.4                84.4%  \n",
              "64       91.2                89.1%  \n",
              "\n",
              "[5 rows x 39 columns]"
            ],
            "text/html": [
              "<div>\n",
              "<style scoped>\n",
              "    .dataframe tbody tr th:only-of-type {\n",
              "        vertical-align: middle;\n",
              "    }\n",
              "\n",
              "    .dataframe tbody tr th {\n",
              "        vertical-align: top;\n",
              "    }\n",
              "\n",
              "    .dataframe thead th {\n",
              "        text-align: right;\n",
              "    }\n",
              "</style>\n",
              "<table border=\"1\" class=\"dataframe\">\n",
              "  <thead>\n",
              "    <tr style=\"text-align: right;\">\n",
              "      <th></th>\n",
              "      <th>DBN</th>\n",
              "      <th>School_Name</th>\n",
              "      <th>Year</th>\n",
              "      <th>Total_Enrollment</th>\n",
              "      <th>Grade_PK_(Half_Day_&amp;_Full_Day)</th>\n",
              "      <th>Grade_K</th>\n",
              "      <th>Grade_1</th>\n",
              "      <th>Grade_2</th>\n",
              "      <th>Grade_3</th>\n",
              "      <th>Grade_4</th>\n",
              "      <th>...</th>\n",
              "      <th>%_Multiple_Race_Categories_Not_Represented</th>\n",
              "      <th>#_White</th>\n",
              "      <th>%_White</th>\n",
              "      <th>#_Students_with_Disabilities</th>\n",
              "      <th>%_Students_with_Disabilities</th>\n",
              "      <th>#_English_Language_Learners</th>\n",
              "      <th>%_English_Language_Learners</th>\n",
              "      <th>#_Poverty</th>\n",
              "      <th>%_Poverty</th>\n",
              "      <th>Economic_Need_Index</th>\n",
              "    </tr>\n",
              "  </thead>\n",
              "  <tbody>\n",
              "    <tr>\n",
              "      <th>60</th>\n",
              "      <td>01M292</td>\n",
              "      <td>Orchard Collegiate Academy</td>\n",
              "      <td>2013</td>\n",
              "      <td>323</td>\n",
              "      <td>0</td>\n",
              "      <td>0</td>\n",
              "      <td>0</td>\n",
              "      <td>0</td>\n",
              "      <td>0</td>\n",
              "      <td>0</td>\n",
              "      <td>...</td>\n",
              "      <td>4.0</td>\n",
              "      <td>10</td>\n",
              "      <td>3.1</td>\n",
              "      <td>107</td>\n",
              "      <td>33.1</td>\n",
              "      <td>64</td>\n",
              "      <td>19.8</td>\n",
              "      <td>271</td>\n",
              "      <td>83.9</td>\n",
              "      <td>No Data</td>\n",
              "    </tr>\n",
              "    <tr>\n",
              "      <th>61</th>\n",
              "      <td>01M292</td>\n",
              "      <td>Orchard Collegiate Academy</td>\n",
              "      <td>2014</td>\n",
              "      <td>255</td>\n",
              "      <td>0</td>\n",
              "      <td>0</td>\n",
              "      <td>0</td>\n",
              "      <td>0</td>\n",
              "      <td>0</td>\n",
              "      <td>0</td>\n",
              "      <td>...</td>\n",
              "      <td>2.4</td>\n",
              "      <td>9</td>\n",
              "      <td>3.5</td>\n",
              "      <td>83</td>\n",
              "      <td>32.5</td>\n",
              "      <td>30</td>\n",
              "      <td>11.8</td>\n",
              "      <td>227</td>\n",
              "      <td>89.0</td>\n",
              "      <td>83.9%</td>\n",
              "    </tr>\n",
              "    <tr>\n",
              "      <th>62</th>\n",
              "      <td>01M292</td>\n",
              "      <td>Orchard Collegiate Academy</td>\n",
              "      <td>2015</td>\n",
              "      <td>185</td>\n",
              "      <td>0</td>\n",
              "      <td>0</td>\n",
              "      <td>0</td>\n",
              "      <td>0</td>\n",
              "      <td>0</td>\n",
              "      <td>0</td>\n",
              "      <td>...</td>\n",
              "      <td>1.1</td>\n",
              "      <td>6</td>\n",
              "      <td>3.2</td>\n",
              "      <td>64</td>\n",
              "      <td>34.6</td>\n",
              "      <td>26</td>\n",
              "      <td>14.1</td>\n",
              "      <td>163</td>\n",
              "      <td>88.1</td>\n",
              "      <td>86.7%</td>\n",
              "    </tr>\n",
              "    <tr>\n",
              "      <th>63</th>\n",
              "      <td>01M292</td>\n",
              "      <td>Orchard Collegiate Academy</td>\n",
              "      <td>2016</td>\n",
              "      <td>140</td>\n",
              "      <td>0</td>\n",
              "      <td>0</td>\n",
              "      <td>0</td>\n",
              "      <td>0</td>\n",
              "      <td>0</td>\n",
              "      <td>0</td>\n",
              "      <td>...</td>\n",
              "      <td>0.7</td>\n",
              "      <td>7</td>\n",
              "      <td>5.0</td>\n",
              "      <td>38</td>\n",
              "      <td>27.1</td>\n",
              "      <td>20</td>\n",
              "      <td>14.3</td>\n",
              "      <td>128</td>\n",
              "      <td>91.4</td>\n",
              "      <td>84.4%</td>\n",
              "    </tr>\n",
              "    <tr>\n",
              "      <th>64</th>\n",
              "      <td>01M292</td>\n",
              "      <td>Orchard Collegiate Academy</td>\n",
              "      <td>2017</td>\n",
              "      <td>171</td>\n",
              "      <td>0</td>\n",
              "      <td>0</td>\n",
              "      <td>0</td>\n",
              "      <td>0</td>\n",
              "      <td>0</td>\n",
              "      <td>0</td>\n",
              "      <td>...</td>\n",
              "      <td>2.3</td>\n",
              "      <td>8</td>\n",
              "      <td>4.7</td>\n",
              "      <td>42</td>\n",
              "      <td>24.6</td>\n",
              "      <td>23</td>\n",
              "      <td>13.5</td>\n",
              "      <td>156</td>\n",
              "      <td>91.2</td>\n",
              "      <td>89.1%</td>\n",
              "    </tr>\n",
              "  </tbody>\n",
              "</table>\n",
              "<p>5 rows × 39 columns</p>\n",
              "</div>"
            ]
          },
          "metadata": {}
        }
      ],
      "execution_count": 67,
      "metadata": {
        "collapsed": false,
        "outputHidden": false,
        "inputHidden": false
      }
    },
    {
      "cell_type": "code",
      "source": [
        "sns.scatterplot(x=\"%_Students_with_Disabilities\", y=\"Total_Enrollment\", data=hschool17_df)\n",
        "sns.scatterplot(x=\"%_Poverty\", y=\"Total_Enrollment\", data=hschool17_df)"
      ],
      "outputs": [
        {
          "output_type": "execute_result",
          "execution_count": 70,
          "data": {
            "text/plain": [
              "<matplotlib.axes._subplots.AxesSubplot at 0x11a504f0>"
            ]
          },
          "metadata": {}
        },
        {
          "output_type": "display_data",
          "data": {
            "text/plain": [
              "<Figure size 432x288 with 1 Axes>"
            ],
            "image/png": "[encoded data removed]"
          },
          "metadata": {
            "needs_background": "light"
          }
        }
      ],
      "execution_count": 70,
      "metadata": {
        "collapsed": false,
        "outputHidden": false,
        "inputHidden": false
      }
    },
    {
      "cell_type": "code",
      "source": [
        "sns.scatterplot(x=\"%_Students_with_Disabilities\", y=\"Total_Enrollment\", data=mschool17_df)"
      ],
      "outputs": [
        {
          "output_type": "execute_result",
          "execution_count": 69,
          "data": {
            "text/plain": [
              "<matplotlib.axes._subplots.AxesSubplot at 0x11a0acf0>"
            ]
          },
          "metadata": {}
        },
        {
          "output_type": "display_data",
          "data": {
            "text/plain": [
              "<Figure size 432x288 with 1 Axes>"
            ],
            "image/png": "[encoded data removed]"
          },
          "metadata": {
            "needs_background": "light"
          }
        }
      ],
      "execution_count": 69,
      "metadata": {
        "collapsed": false,
        "outputHidden": false,
        "inputHidden": false
      }
    },
    {
      "cell_type": "code",
      "source": [],
      "outputs": [],
      "execution_count": null,
      "metadata": {
        "collapsed": false,
        "outputHidden": false,
        "inputHidden": false
      }
    },
    {
      "cell_type": "code",
      "source": [],
      "outputs": [],
      "execution_count": null,
      "metadata": {
        "collapsed": false,
        "outputHidden": false,
        "inputHidden": false
      }
    },
    {
      "cell_type": "code",
      "source": [],
      "outputs": [],
      "execution_count": null,
      "metadata": {
        "collapsed": false,
        "outputHidden": false,
        "inputHidden": false
      }
    },
    {
      "cell_type": "code",
      "source": [],
      "outputs": [],
      "execution_count": null,
      "metadata": {
        "collapsed": false,
        "outputHidden": false,
        "inputHidden": false
      }
    },
    {
      "cell_type": "code",
      "source": [],
      "outputs": [],
      "execution_count": null,
      "metadata": {
        "collapsed": false,
        "outputHidden": false,
        "inputHidden": false
      }
    },
    {
      "cell_type": "code",
      "source": [],
      "outputs": [],
      "execution_count": null,
      "metadata": {
        "collapsed": false,
        "outputHidden": false,
        "inputHidden": false
      }
    },
    {
      "cell_type": "code",
      "source": [],
      "outputs": [],
      "execution_count": null,
      "metadata": {
        "collapsed": false,
        "outputHidden": false,
        "inputHidden": false
      }
    },
    {
      "cell_type": "code",
      "source": [],
      "outputs": [],
      "execution_count": null,
      "metadata": {
        "collapsed": false,
        "outputHidden": false,
        "inputHidden": false
      }
    },
    {
      "cell_type": "code",
      "source": [],
      "outputs": [],
      "execution_count": null,
      "metadata": {
        "collapsed": false,
        "outputHidden": false,
        "inputHidden": false
      }
    },
    {
      "cell_type": "code",
      "source": [],
      "outputs": [],
      "execution_count": null,
      "metadata": {
        "collapsed": false,
        "outputHidden": false,
        "inputHidden": false
      }
    },
    {
      "cell_type": "code",
      "source": [],
      "outputs": [],
      "execution_count": null,
      "metadata": {
        "collapsed": false,
        "outputHidden": false,
        "inputHidden": false
      }
    },
    {
      "cell_type": "code",
      "source": [],
      "outputs": [],
      "execution_count": null,
      "metadata": {
        "collapsed": false,
        "outputHidden": false,
        "inputHidden": false
      }
    },
    {
      "cell_type": "code",
      "source": [],
      "outputs": [],
      "execution_count": null,
      "metadata": {
        "collapsed": false,
        "outputHidden": false,
        "inputHidden": false
      }
    },
    {
      "cell_type": "code",
      "source": [],
      "outputs": [],
      "execution_count": null,
      "metadata": {
        "collapsed": false,
        "outputHidden": false,
        "inputHidden": false
      }
    },
    {
      "cell_type": "code",
      "source": [],
      "outputs": [],
      "execution_count": null,
      "metadata": {
        "collapsed": false,
        "outputHidden": false,
        "inputHidden": false
      }
    },
    {
      "cell_type": "code",
      "source": [],
      "outputs": [],
      "execution_count": null,
      "metadata": {
        "collapsed": false,
        "outputHidden": false,
        "inputHidden": false
      }
    },
    {
      "cell_type": "code",
      "source": [],
      "outputs": [],
      "execution_count": null,
      "metadata": {
        "collapsed": false,
        "outputHidden": false,
        "inputHidden": false
      }
    },
    {
      "cell_type": "code",
      "source": [],
      "outputs": [],
      "execution_count": null,
      "metadata": {
        "collapsed": false,
        "outputHidden": false,
        "inputHidden": false
      }
    },
    {
      "cell_type": "code",
      "source": [],
      "outputs": [],
      "execution_count": null,
      "metadata": {
        "collapsed": false,
        "outputHidden": false,
        "inputHidden": false
      }
    },
    {
      "cell_type": "code",
      "source": [],
      "outputs": [],
      "execution_count": null,
      "metadata": {
        "collapsed": false,
        "outputHidden": false,
        "inputHidden": false
      }
    },
    {
      "cell_type": "code",
      "source": [],
      "outputs": [],
      "execution_count": null,
      "metadata": {
        "collapsed": false,
        "outputHidden": false,
        "inputHidden": false
      }
    },
    {
      "cell_type": "code",
      "source": [],
      "outputs": [],
      "execution_count": null,
      "metadata": {
        "collapsed": false,
        "outputHidden": false,
        "inputHidden": false
      }
    },
    {
      "cell_type": "code",
      "source": [],
      "outputs": [],
      "execution_count": null,
      "metadata": {
        "collapsed": false,
        "outputHidden": false,
        "inputHidden": false
      }
    },
    {
      "cell_type": "code",
      "source": [],
      "outputs": [],
      "execution_count": null,
      "metadata": {
        "collapsed": false,
        "outputHidden": false,
        "inputHidden": false
      }
    },
    {
      "cell_type": "code",
      "source": [],
      "outputs": [],
      "execution_count": null,
      "metadata": {
        "collapsed": false,
        "outputHidden": false,
        "inputHidden": false
      }
    },
    {
      "cell_type": "code",
      "source": [],
      "outputs": [],
      "execution_count": null,
      "metadata": {
        "collapsed": false,
        "outputHidden": false,
        "inputHidden": false
      }
    },
    {
      "cell_type": "code",
      "source": [],
      "outputs": [],
      "execution_count": null,
      "metadata": {
        "collapsed": false,
        "outputHidden": false,
        "inputHidden": false
      }
    },
    {
      "cell_type": "code",
      "source": [],
      "outputs": [],
      "execution_count": null,
      "metadata": {
        "collapsed": false,
        "outputHidden": false,
        "inputHidden": false
      }
    },
    {
      "cell_type": "code",
      "source": [],
      "outputs": [],
      "execution_count": null,
      "metadata": {
        "collapsed": false,
        "outputHidden": false,
        "inputHidden": false
      }
    }
  ],
  "metadata": {
    "kernel_info": {
      "name": "python3"
    },
    "language_info": {
      "name": "python",
      "version": "3.7.3",
      "mimetype": "text/x-python",
      "codemirror_mode": {
        "name": "ipython",
        "version": 3
      },
      "pygments_lexer": "ipython3",
      "nbconvert_exporter": "python",
      "file_extension": ".py"
    },
    "kernelspec": {
      "name": "python3",
      "language": "python",
      "display_name": "Python 3"
    },
    "nteract": {
      "version": "0.14.3"
    }
  },
  "nbformat": 4,
  "nbformat_minor": 0
}