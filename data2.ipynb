{
  "cells": [
    {
      "cell_type": "code",
      "source": [
        "import pandas as pd\n",
        "import seaborn as sns\n",
        "import matplotlib.pyplot as plt"
      ],
      "outputs": [],
      "execution_count": 10,
      "metadata": {
        "collapsed": false,
        "outputHidden": false,
        "inputHidden": false
      }
    },
    {
      "cell_type": "code",
      "source": [
        "health_df = pd.read_csv(\"2013_-_2018_Demographic_Snapshot_School.csv\", sep=\",\")\n",
        "health_df.head()"
      ],
      "outputs": [
        {
          "output_type": "execute_result",
          "execution_count": 11,
          "data": {
            "text/plain": [
              "      DBN                School Name     Year  Total Enrollment  \\\n",
              "0  01M015  P.S. 015 Roberto Clemente  2013-14               190   \n",
              "1  01M015  P.S. 015 Roberto Clemente  2014-15               183   \n",
              "2  01M015  P.S. 015 Roberto Clemente  2015-16               176   \n",
              "3  01M015  P.S. 015 Roberto Clemente  2016-17               178   \n",
              "4  01M015  P.S. 015 Roberto Clemente  2017-18               190   \n",
              "\n",
              "   Grade PK (Half Day & Full Day)  Grade K  Grade 1  Grade 2  Grade 3  \\\n",
              "0                              26       39       39       21       16   \n",
              "1                              18       27       47       31       19   \n",
              "2                              14       32       33       39       23   \n",
              "3                              17       28       33       27       31   \n",
              "4                              17       28       32       33       23   \n",
              "\n",
              "   Grade 4  ...  % Multiple Race Categories Not Represented  # White  % White  \\\n",
              "0       26  ...                                         1.1        3      1.6   \n",
              "1       17  ...                                         0.5        2      1.1   \n",
              "2       17  ...                                         1.7        2      1.1   \n",
              "3       24  ...                                         2.2        4      2.2   \n",
              "4       31  ...                                         1.1        6      3.2   \n",
              "\n",
              "   # Students with Disabilities  % Students with Disabilities  \\\n",
              "0                            65                          34.2   \n",
              "1                            64                          35.0   \n",
              "2                            60                          34.1   \n",
              "3                            51                          28.7   \n",
              "4                            45                          23.7   \n",
              "\n",
              "   # English Language Learners  % English Language Learners  # Poverty  \\\n",
              "0                           19                         10.0        171   \n",
              "1                           17                          9.3        169   \n",
              "2                           16                          9.1        149   \n",
              "3                           12                          6.7        152   \n",
              "4                            8                          4.2        161   \n",
              "\n",
              "   % Poverty  Economic Need Index  \n",
              "0       90.0              No Data  \n",
              "1       92.3                93.5%  \n",
              "2       84.7                89.6%  \n",
              "3       85.4                89.2%  \n",
              "4       84.7                89.0%  \n",
              "\n",
              "[5 rows x 39 columns]"
            ],
            "text/html": [
              "<div>\n",
              "<style scoped>\n",
              "    .dataframe tbody tr th:only-of-type {\n",
              "        vertical-align: middle;\n",
              "    }\n",
              "\n",
              "    .dataframe tbody tr th {\n",
              "        vertical-align: top;\n",
              "    }\n",
              "\n",
              "    .dataframe thead th {\n",
              "        text-align: right;\n",
              "    }\n",
              "</style>\n",
              "<table border=\"1\" class=\"dataframe\">\n",
              "  <thead>\n",
              "    <tr style=\"text-align: right;\">\n",
              "      <th></th>\n",
              "      <th>DBN</th>\n",
              "      <th>School Name</th>\n",
              "      <th>Year</th>\n",
              "      <th>Total Enrollment</th>\n",
              "      <th>Grade PK (Half Day &amp; Full Day)</th>\n",
              "      <th>Grade K</th>\n",
              "      <th>Grade 1</th>\n",
              "      <th>Grade 2</th>\n",
              "      <th>Grade 3</th>\n",
              "      <th>Grade 4</th>\n",
              "      <th>...</th>\n",
              "      <th>% Multiple Race Categories Not Represented</th>\n",
              "      <th># White</th>\n",
              "      <th>% White</th>\n",
              "      <th># Students with Disabilities</th>\n",
              "      <th>% Students with Disabilities</th>\n",
              "      <th># English Language Learners</th>\n",
              "      <th>% English Language Learners</th>\n",
              "      <th># Poverty</th>\n",
              "      <th>% Poverty</th>\n",
              "      <th>Economic Need Index</th>\n",
              "    </tr>\n",
              "  </thead>\n",
              "  <tbody>\n",
              "    <tr>\n",
              "      <th>0</th>\n",
              "      <td>01M015</td>\n",
              "      <td>P.S. 015 Roberto Clemente</td>\n",
              "      <td>2013-14</td>\n",
              "      <td>190</td>\n",
              "      <td>26</td>\n",
              "      <td>39</td>\n",
              "      <td>39</td>\n",
              "      <td>21</td>\n",
              "      <td>16</td>\n",
              "      <td>26</td>\n",
              "      <td>...</td>\n",
              "      <td>1.1</td>\n",
              "      <td>3</td>\n",
              "      <td>1.6</td>\n",
              "      <td>65</td>\n",
              "      <td>34.2</td>\n",
              "      <td>19</td>\n",
              "      <td>10.0</td>\n",
              "      <td>171</td>\n",
              "      <td>90.0</td>\n",
              "      <td>No Data</td>\n",
              "    </tr>\n",
              "    <tr>\n",
              "      <th>1</th>\n",
              "      <td>01M015</td>\n",
              "      <td>P.S. 015 Roberto Clemente</td>\n",
              "      <td>2014-15</td>\n",
              "      <td>183</td>\n",
              "      <td>18</td>\n",
              "      <td>27</td>\n",
              "      <td>47</td>\n",
              "      <td>31</td>\n",
              "      <td>19</td>\n",
              "      <td>17</td>\n",
              "      <td>...</td>\n",
              "      <td>0.5</td>\n",
              "      <td>2</td>\n",
              "      <td>1.1</td>\n",
              "      <td>64</td>\n",
              "      <td>35.0</td>\n",
              "      <td>17</td>\n",
              "      <td>9.3</td>\n",
              "      <td>169</td>\n",
              "      <td>92.3</td>\n",
              "      <td>93.5%</td>\n",
              "    </tr>\n",
              "    <tr>\n",
              "      <th>2</th>\n",
              "      <td>01M015</td>\n",
              "      <td>P.S. 015 Roberto Clemente</td>\n",
              "      <td>2015-16</td>\n",
              "      <td>176</td>\n",
              "      <td>14</td>\n",
              "      <td>32</td>\n",
              "      <td>33</td>\n",
              "      <td>39</td>\n",
              "      <td>23</td>\n",
              "      <td>17</td>\n",
              "      <td>...</td>\n",
              "      <td>1.7</td>\n",
              "      <td>2</td>\n",
              "      <td>1.1</td>\n",
              "      <td>60</td>\n",
              "      <td>34.1</td>\n",
              "      <td>16</td>\n",
              "      <td>9.1</td>\n",
              "      <td>149</td>\n",
              "      <td>84.7</td>\n",
              "      <td>89.6%</td>\n",
              "    </tr>\n",
              "    <tr>\n",
              "      <th>3</th>\n",
              "      <td>01M015</td>\n",
              "      <td>P.S. 015 Roberto Clemente</td>\n",
              "      <td>2016-17</td>\n",
              "      <td>178</td>\n",
              "      <td>17</td>\n",
              "      <td>28</td>\n",
              "      <td>33</td>\n",
              "      <td>27</td>\n",
              "      <td>31</td>\n",
              "      <td>24</td>\n",
              "      <td>...</td>\n",
              "      <td>2.2</td>\n",
              "      <td>4</td>\n",
              "      <td>2.2</td>\n",
              "      <td>51</td>\n",
              "      <td>28.7</td>\n",
              "      <td>12</td>\n",
              "      <td>6.7</td>\n",
              "      <td>152</td>\n",
              "      <td>85.4</td>\n",
              "      <td>89.2%</td>\n",
              "    </tr>\n",
              "    <tr>\n",
              "      <th>4</th>\n",
              "      <td>01M015</td>\n",
              "      <td>P.S. 015 Roberto Clemente</td>\n",
              "      <td>2017-18</td>\n",
              "      <td>190</td>\n",
              "      <td>17</td>\n",
              "      <td>28</td>\n",
              "      <td>32</td>\n",
              "      <td>33</td>\n",
              "      <td>23</td>\n",
              "      <td>31</td>\n",
              "      <td>...</td>\n",
              "      <td>1.1</td>\n",
              "      <td>6</td>\n",
              "      <td>3.2</td>\n",
              "      <td>45</td>\n",
              "      <td>23.7</td>\n",
              "      <td>8</td>\n",
              "      <td>4.2</td>\n",
              "      <td>161</td>\n",
              "      <td>84.7</td>\n",
              "      <td>89.0%</td>\n",
              "    </tr>\n",
              "  </tbody>\n",
              "</table>\n",
              "<p>5 rows × 39 columns</p>\n",
              "</div>"
            ]
          },
          "metadata": {}
        }
      ],
      "execution_count": 11,
      "metadata": {
        "collapsed": false,
        "outputHidden": false,
        "inputHidden": false
      }
    },
    {
      "cell_type": "code",
      "source": [
        "health_df.columns"
      ],
      "outputs": [
        {
          "output_type": "execute_result",
          "execution_count": 12,
          "data": {
            "text/plain": [
              "Index(['DBN', 'School Name', 'Year', 'Total Enrollment',\n",
              "       'Grade PK (Half Day & Full Day)', 'Grade K', 'Grade 1', 'Grade 2',\n",
              "       'Grade 3', 'Grade 4', 'Grade 5', 'Grade 6', 'Grade 7', 'Grade 8',\n",
              "       'Grade 9', 'Grade 10', 'Grade 11', 'Grade 12', '# Female', '% Female',\n",
              "       '# Male', '% Male', '# Asian', '% Asian', '# Black', '% Black',\n",
              "       '# Hispanic', '% Hispanic',\n",
              "       '# Multiple Race Categories Not Represented',\n",
              "       '% Multiple Race Categories Not Represented', '# White', '% White',\n",
              "       '# Students with Disabilities', '% Students with Disabilities',\n",
              "       '# English Language Learners', '% English Language Learners',\n",
              "       '# Poverty', '% Poverty', 'Economic Need Index'],\n",
              "      dtype='object')"
            ]
          },
          "metadata": {}
        }
      ],
      "execution_count": 12,
      "metadata": {
        "collapsed": false,
        "outputHidden": false,
        "inputHidden": false
      }
    },
    {
      "cell_type": "code",
      "source": [
        "health_df.columns = [x.replace(\" \", \"_\").replace(\"_(cm)\", \"\") for x in health_df.columns]"
      ],
      "outputs": [],
      "execution_count": 13,
      "metadata": {
        "collapsed": false,
        "outputHidden": false,
        "inputHidden": false
      }
    },
    {
      "cell_type": "code",
      "source": [
        "health_df.head()"
      ],
      "outputs": [
        {
          "output_type": "execute_result",
          "execution_count": 14,
          "data": {
            "text/plain": [
              "      DBN                School_Name     Year  Total_Enrollment  \\\n",
              "0  01M015  P.S. 015 Roberto Clemente  2013-14               190   \n",
              "1  01M015  P.S. 015 Roberto Clemente  2014-15               183   \n",
              "2  01M015  P.S. 015 Roberto Clemente  2015-16               176   \n",
              "3  01M015  P.S. 015 Roberto Clemente  2016-17               178   \n",
              "4  01M015  P.S. 015 Roberto Clemente  2017-18               190   \n",
              "\n",
              "   Grade_PK_(Half_Day_&_Full_Day)  Grade_K  Grade_1  Grade_2  Grade_3  \\\n",
              "0                              26       39       39       21       16   \n",
              "1                              18       27       47       31       19   \n",
              "2                              14       32       33       39       23   \n",
              "3                              17       28       33       27       31   \n",
              "4                              17       28       32       33       23   \n",
              "\n",
              "   Grade_4  ...  %_Multiple_Race_Categories_Not_Represented  #_White  %_White  \\\n",
              "0       26  ...                                         1.1        3      1.6   \n",
              "1       17  ...                                         0.5        2      1.1   \n",
              "2       17  ...                                         1.7        2      1.1   \n",
              "3       24  ...                                         2.2        4      2.2   \n",
              "4       31  ...                                         1.1        6      3.2   \n",
              "\n",
              "   #_Students_with_Disabilities  %_Students_with_Disabilities  \\\n",
              "0                            65                          34.2   \n",
              "1                            64                          35.0   \n",
              "2                            60                          34.1   \n",
              "3                            51                          28.7   \n",
              "4                            45                          23.7   \n",
              "\n",
              "   #_English_Language_Learners  %_English_Language_Learners  #_Poverty  \\\n",
              "0                           19                         10.0        171   \n",
              "1                           17                          9.3        169   \n",
              "2                           16                          9.1        149   \n",
              "3                           12                          6.7        152   \n",
              "4                            8                          4.2        161   \n",
              "\n",
              "   %_Poverty  Economic_Need_Index  \n",
              "0       90.0              No Data  \n",
              "1       92.3                93.5%  \n",
              "2       84.7                89.6%  \n",
              "3       85.4                89.2%  \n",
              "4       84.7                89.0%  \n",
              "\n",
              "[5 rows x 39 columns]"
            ],
            "text/html": [
              "<div>\n",
              "<style scoped>\n",
              "    .dataframe tbody tr th:only-of-type {\n",
              "        vertical-align: middle;\n",
              "    }\n",
              "\n",
              "    .dataframe tbody tr th {\n",
              "        vertical-align: top;\n",
              "    }\n",
              "\n",
              "    .dataframe thead th {\n",
              "        text-align: right;\n",
              "    }\n",
              "</style>\n",
              "<table border=\"1\" class=\"dataframe\">\n",
              "  <thead>\n",
              "    <tr style=\"text-align: right;\">\n",
              "      <th></th>\n",
              "      <th>DBN</th>\n",
              "      <th>School_Name</th>\n",
              "      <th>Year</th>\n",
              "      <th>Total_Enrollment</th>\n",
              "      <th>Grade_PK_(Half_Day_&amp;_Full_Day)</th>\n",
              "      <th>Grade_K</th>\n",
              "      <th>Grade_1</th>\n",
              "      <th>Grade_2</th>\n",
              "      <th>Grade_3</th>\n",
              "      <th>Grade_4</th>\n",
              "      <th>...</th>\n",
              "      <th>%_Multiple_Race_Categories_Not_Represented</th>\n",
              "      <th>#_White</th>\n",
              "      <th>%_White</th>\n",
              "      <th>#_Students_with_Disabilities</th>\n",
              "      <th>%_Students_with_Disabilities</th>\n",
              "      <th>#_English_Language_Learners</th>\n",
              "      <th>%_English_Language_Learners</th>\n",
              "      <th>#_Poverty</th>\n",
              "      <th>%_Poverty</th>\n",
              "      <th>Economic_Need_Index</th>\n",
              "    </tr>\n",
              "  </thead>\n",
              "  <tbody>\n",
              "    <tr>\n",
              "      <th>0</th>\n",
              "      <td>01M015</td>\n",
              "      <td>P.S. 015 Roberto Clemente</td>\n",
              "      <td>2013-14</td>\n",
              "      <td>190</td>\n",
              "      <td>26</td>\n",
              "      <td>39</td>\n",
              "      <td>39</td>\n",
              "      <td>21</td>\n",
              "      <td>16</td>\n",
              "      <td>26</td>\n",
              "      <td>...</td>\n",
              "      <td>1.1</td>\n",
              "      <td>3</td>\n",
              "      <td>1.6</td>\n",
              "      <td>65</td>\n",
              "      <td>34.2</td>\n",
              "      <td>19</td>\n",
              "      <td>10.0</td>\n",
              "      <td>171</td>\n",
              "      <td>90.0</td>\n",
              "      <td>No Data</td>\n",
              "    </tr>\n",
              "    <tr>\n",
              "      <th>1</th>\n",
              "      <td>01M015</td>\n",
              "      <td>P.S. 015 Roberto Clemente</td>\n",
              "      <td>2014-15</td>\n",
              "      <td>183</td>\n",
              "      <td>18</td>\n",
              "      <td>27</td>\n",
              "      <td>47</td>\n",
              "      <td>31</td>\n",
              "      <td>19</td>\n",
              "      <td>17</td>\n",
              "      <td>...</td>\n",
              "      <td>0.5</td>\n",
              "      <td>2</td>\n",
              "      <td>1.1</td>\n",
              "      <td>64</td>\n",
              "      <td>35.0</td>\n",
              "      <td>17</td>\n",
              "      <td>9.3</td>\n",
              "      <td>169</td>\n",
              "      <td>92.3</td>\n",
              "      <td>93.5%</td>\n",
              "    </tr>\n",
              "    <tr>\n",
              "      <th>2</th>\n",
              "      <td>01M015</td>\n",
              "      <td>P.S. 015 Roberto Clemente</td>\n",
              "      <td>2015-16</td>\n",
              "      <td>176</td>\n",
              "      <td>14</td>\n",
              "      <td>32</td>\n",
              "      <td>33</td>\n",
              "      <td>39</td>\n",
              "      <td>23</td>\n",
              "      <td>17</td>\n",
              "      <td>...</td>\n",
              "      <td>1.7</td>\n",
              "      <td>2</td>\n",
              "      <td>1.1</td>\n",
              "      <td>60</td>\n",
              "      <td>34.1</td>\n",
              "      <td>16</td>\n",
              "      <td>9.1</td>\n",
              "      <td>149</td>\n",
              "      <td>84.7</td>\n",
              "      <td>89.6%</td>\n",
              "    </tr>\n",
              "    <tr>\n",
              "      <th>3</th>\n",
              "      <td>01M015</td>\n",
              "      <td>P.S. 015 Roberto Clemente</td>\n",
              "      <td>2016-17</td>\n",
              "      <td>178</td>\n",
              "      <td>17</td>\n",
              "      <td>28</td>\n",
              "      <td>33</td>\n",
              "      <td>27</td>\n",
              "      <td>31</td>\n",
              "      <td>24</td>\n",
              "      <td>...</td>\n",
              "      <td>2.2</td>\n",
              "      <td>4</td>\n",
              "      <td>2.2</td>\n",
              "      <td>51</td>\n",
              "      <td>28.7</td>\n",
              "      <td>12</td>\n",
              "      <td>6.7</td>\n",
              "      <td>152</td>\n",
              "      <td>85.4</td>\n",
              "      <td>89.2%</td>\n",
              "    </tr>\n",
              "    <tr>\n",
              "      <th>4</th>\n",
              "      <td>01M015</td>\n",
              "      <td>P.S. 015 Roberto Clemente</td>\n",
              "      <td>2017-18</td>\n",
              "      <td>190</td>\n",
              "      <td>17</td>\n",
              "      <td>28</td>\n",
              "      <td>32</td>\n",
              "      <td>33</td>\n",
              "      <td>23</td>\n",
              "      <td>31</td>\n",
              "      <td>...</td>\n",
              "      <td>1.1</td>\n",
              "      <td>6</td>\n",
              "      <td>3.2</td>\n",
              "      <td>45</td>\n",
              "      <td>23.7</td>\n",
              "      <td>8</td>\n",
              "      <td>4.2</td>\n",
              "      <td>161</td>\n",
              "      <td>84.7</td>\n",
              "      <td>89.0%</td>\n",
              "    </tr>\n",
              "  </tbody>\n",
              "</table>\n",
              "<p>5 rows × 39 columns</p>\n",
              "</div>"
            ]
          },
          "metadata": {}
        }
      ],
      "execution_count": 14,
      "metadata": {
        "collapsed": false,
        "outputHidden": false,
        "inputHidden": false
      }
    },
    {
      "cell_type": "code",
      "source": [],
      "outputs": [],
      "execution_count": null,
      "metadata": {
        "collapsed": false,
        "outputHidden": false,
        "inputHidden": false
      }
    },
    {
      "cell_type": "code",
      "source": [],
      "outputs": [],
      "execution_count": null,
      "metadata": {
        "collapsed": false,
        "outputHidden": false,
        "inputHidden": false
      }
    },
    {
      "cell_type": "code",
      "source": [],
      "outputs": [],
      "execution_count": null,
      "metadata": {
        "collapsed": false,
        "outputHidden": false,
        "inputHidden": false
      }
    },
    {
      "cell_type": "code",
      "source": [],
      "outputs": [],
      "execution_count": null,
      "metadata": {
        "collapsed": false,
        "outputHidden": false,
        "inputHidden": false
      }
    },
    {
      "cell_type": "code",
      "source": [],
      "outputs": [],
      "execution_count": null,
      "metadata": {
        "collapsed": false,
        "outputHidden": false,
        "inputHidden": false
      }
    },
    {
      "cell_type": "code",
      "source": [],
      "outputs": [],
      "execution_count": null,
      "metadata": {
        "collapsed": false,
        "outputHidden": false,
        "inputHidden": false
      }
    },
    {
      "cell_type": "code",
      "source": [],
      "outputs": [],
      "execution_count": null,
      "metadata": {
        "collapsed": false,
        "outputHidden": false,
        "inputHidden": false
      }
    },
    {
      "cell_type": "code",
      "source": [],
      "outputs": [],
      "execution_count": null,
      "metadata": {
        "collapsed": false,
        "outputHidden": false,
        "inputHidden": false
      }
    },
    {
      "cell_type": "code",
      "source": [],
      "outputs": [],
      "execution_count": null,
      "metadata": {
        "collapsed": false,
        "outputHidden": false,
        "inputHidden": false
      }
    },
    {
      "cell_type": "code",
      "source": [],
      "outputs": [],
      "execution_count": null,
      "metadata": {
        "collapsed": false,
        "outputHidden": false,
        "inputHidden": false
      }
    },
    {
      "cell_type": "code",
      "source": [],
      "outputs": [],
      "execution_count": null,
      "metadata": {
        "collapsed": false,
        "outputHidden": false,
        "inputHidden": false
      }
    },
    {
      "cell_type": "code",
      "source": [],
      "outputs": [],
      "execution_count": null,
      "metadata": {
        "collapsed": false,
        "outputHidden": false,
        "inputHidden": false
      }
    },
    {
      "cell_type": "code",
      "source": [],
      "outputs": [],
      "execution_count": null,
      "metadata": {
        "collapsed": false,
        "outputHidden": false,
        "inputHidden": false
      }
    },
    {
      "cell_type": "code",
      "source": [],
      "outputs": [],
      "execution_count": null,
      "metadata": {
        "collapsed": false,
        "outputHidden": false,
        "inputHidden": false
      }
    },
    {
      "cell_type": "code",
      "source": [],
      "outputs": [],
      "execution_count": null,
      "metadata": {
        "collapsed": false,
        "outputHidden": false,
        "inputHidden": false
      }
    },
    {
      "cell_type": "code",
      "source": [],
      "outputs": [],
      "execution_count": null,
      "metadata": {
        "collapsed": false,
        "outputHidden": false,
        "inputHidden": false
      }
    },
    {
      "cell_type": "code",
      "source": [],
      "outputs": [],
      "execution_count": null,
      "metadata": {
        "collapsed": false,
        "outputHidden": false,
        "inputHidden": false
      }
    },
    {
      "cell_type": "code",
      "source": [],
      "outputs": [],
      "execution_count": null,
      "metadata": {
        "collapsed": false,
        "outputHidden": false,
        "inputHidden": false
      }
    },
    {
      "cell_type": "code",
      "source": [],
      "outputs": [],
      "execution_count": null,
      "metadata": {
        "collapsed": false,
        "outputHidden": false,
        "inputHidden": false
      }
    },
    {
      "cell_type": "code",
      "source": [],
      "outputs": [],
      "execution_count": null,
      "metadata": {
        "collapsed": false,
        "outputHidden": false,
        "inputHidden": false
      }
    },
    {
      "cell_type": "code",
      "source": [],
      "outputs": [],
      "execution_count": null,
      "metadata": {
        "collapsed": false,
        "outputHidden": false,
        "inputHidden": false
      }
    },
    {
      "cell_type": "code",
      "source": [],
      "outputs": [],
      "execution_count": null,
      "metadata": {
        "collapsed": false,
        "outputHidden": false,
        "inputHidden": false
      }
    },
    {
      "cell_type": "code",
      "source": [],
      "outputs": [],
      "execution_count": null,
      "metadata": {
        "collapsed": false,
        "outputHidden": false,
        "inputHidden": false
      }
    },
    {
      "cell_type": "code",
      "source": [],
      "outputs": [],
      "execution_count": null,
      "metadata": {
        "collapsed": false,
        "outputHidden": false,
        "inputHidden": false
      }
    },
    {
      "cell_type": "code",
      "source": [],
      "outputs": [],
      "execution_count": null,
      "metadata": {
        "collapsed": false,
        "outputHidden": false,
        "inputHidden": false
      }
    },
    {
      "cell_type": "code",
      "source": [],
      "outputs": [],
      "execution_count": null,
      "metadata": {
        "collapsed": false,
        "outputHidden": false,
        "inputHidden": false
      }
    },
    {
      "cell_type": "code",
      "source": [],
      "outputs": [],
      "execution_count": null,
      "metadata": {
        "collapsed": false,
        "outputHidden": false,
        "inputHidden": false
      }
    },
    {
      "cell_type": "code",
      "source": [],
      "outputs": [],
      "execution_count": null,
      "metadata": {
        "collapsed": false,
        "outputHidden": false,
        "inputHidden": false
      }
    },
    {
      "cell_type": "code",
      "source": [],
      "outputs": [],
      "execution_count": null,
      "metadata": {
        "collapsed": false,
        "outputHidden": false,
        "inputHidden": false
      }
    },
    {
      "cell_type": "code",
      "source": [],
      "outputs": [],
      "execution_count": null,
      "metadata": {
        "collapsed": false,
        "outputHidden": false,
        "inputHidden": false
      }
    },
    {
      "cell_type": "code",
      "source": [],
      "outputs": [],
      "execution_count": null,
      "metadata": {
        "collapsed": false,
        "outputHidden": false,
        "inputHidden": false
      }
    },
    {
      "cell_type": "code",
      "source": [],
      "outputs": [],
      "execution_count": null,
      "metadata": {
        "collapsed": false,
        "outputHidden": false,
        "inputHidden": false
      }
    },
    {
      "cell_type": "code",
      "source": [],
      "outputs": [],
      "execution_count": null,
      "metadata": {
        "collapsed": false,
        "outputHidden": false,
        "inputHidden": false
      }
    },
    {
      "cell_type": "code",
      "source": [],
      "outputs": [],
      "execution_count": null,
      "metadata": {
        "collapsed": false,
        "outputHidden": false,
        "inputHidden": false
      }
    },
    {
      "cell_type": "code",
      "source": [],
      "outputs": [],
      "execution_count": null,
      "metadata": {
        "collapsed": false,
        "outputHidden": false,
        "inputHidden": false
      }
    },
    {
      "cell_type": "code",
      "source": [],
      "outputs": [],
      "execution_count": null,
      "metadata": {
        "collapsed": false,
        "outputHidden": false,
        "inputHidden": false
      }
    }
  ],
  "metadata": {
    "kernel_info": {
      "name": "python3"
    },
    "language_info": {
      "name": "python",
      "version": "3.7.3",
      "mimetype": "text/x-python",
      "codemirror_mode": {
        "name": "ipython",
        "version": 3
      },
      "pygments_lexer": "ipython3",
      "nbconvert_exporter": "python",
      "file_extension": ".py"
    },
    "kernelspec": {
      "name": "python3",
      "language": "python",
      "display_name": "Python 3"
    },
    "nteract": {
      "version": "0.14.3"
    }
  },
  "nbformat": 4,
  "nbformat_minor": 0
}